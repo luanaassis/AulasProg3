{
 "cells": [
  {
   "cell_type": "code",
   "execution_count": null,
   "id": "0ac9ff79",
   "metadata": {},
   "outputs": [
    {
     "name": "stdout",
     "output_type": "stream",
     "text": [
      "Informe quanto recebeu de salário: 900\n",
      "Informe quanto gastou : 100\n",
      "Seu saldo atual é  800\n",
      "Informe quanto gastou : 100\n",
      "Seu saldo atual é  700\n",
      "Informe quanto gastou : 500\n",
      "Seu saldo atual é  200\n"
     ]
    }
   ],
   "source": [
    "salario = int(input(\"Informe quanto recebeu de salário: \"))\n",
    "while (salario>0):\n",
    "    gasto = int(input(\"Informe quanto gastou : \"))\n",
    "    salario = salario - gasto\n",
    "    print(\"Seu saldo atual é \", salario)\n",
    "print(\"Seu salário acabou.\")"
   ]
  },
  {
   "cell_type": "code",
   "execution_count": null,
   "id": "195ab158",
   "metadata": {},
   "outputs": [],
   "source": []
  }
 ],
 "metadata": {
  "kernelspec": {
   "display_name": "Python 3",
   "language": "python",
   "name": "python3"
  },
  "language_info": {
   "codemirror_mode": {
    "name": "ipython",
    "version": 3
   },
   "file_extension": ".py",
   "mimetype": "text/x-python",
   "name": "python",
   "nbconvert_exporter": "python",
   "pygments_lexer": "ipython3",
   "version": "3.8.8"
  }
 },
 "nbformat": 4,
 "nbformat_minor": 5
}
