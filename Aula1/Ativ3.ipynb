{
 "cells": [
  {
   "cell_type": "code",
   "execution_count": 1,
   "id": "9de66e16",
   "metadata": {},
   "outputs": [
    {
     "name": "stdout",
     "output_type": "stream",
     "text": [
      "Informe a quantidade de cópias desejadas: 9\n",
      "O valor a ser pago por cada cópia é :  0.08\n"
     ]
    }
   ],
   "source": [
    "qtdCopias = int (input(\"Informe a quantidade de cópias desejadas: \"))\n",
    "while (qtdCopias<0):\n",
    "    print(\"Valor inválido!\")\n",
    "    qtdCopias = (input(\"Informe a quantidade de cópias desejadas: \"))\n",
    "if qtdCopias <= 2:\n",
    "    preco = 0.10\n",
    "elif qtdCopias>2 and qtdCopias <= 10 :\n",
    "    preco = 0.08\n",
    "elif qtdCopias>10 and qtdCopias <= 100 :\n",
    "    preco = 0.06\n",
    "elif qtdCopias > 100:\n",
    "    preco = 0.04\n",
    "print(\"O valor a ser pago por cada cópia é : \", preco)"
   ]
  },
  {
   "cell_type": "code",
   "execution_count": null,
   "id": "a2385a4c",
   "metadata": {},
   "outputs": [],
   "source": []
  },
  {
   "cell_type": "code",
   "execution_count": null,
   "id": "93f3e9d2",
   "metadata": {},
   "outputs": [],
   "source": []
  }
 ],
 "metadata": {
  "kernelspec": {
   "display_name": "Python 3",
   "language": "python",
   "name": "python3"
  },
  "language_info": {
   "codemirror_mode": {
    "name": "ipython",
    "version": 3
   },
   "file_extension": ".py",
   "mimetype": "text/x-python",
   "name": "python",
   "nbconvert_exporter": "python",
   "pygments_lexer": "ipython3",
   "version": "3.8.8"
  }
 },
 "nbformat": 4,
 "nbformat_minor": 5
}
